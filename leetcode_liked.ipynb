{
 "cells": [
  {
   "cell_type": "code",
   "execution_count": null,
   "metadata": {},
   "outputs": [],
   "source": [
    "import time\n",
    "from functools import wraps\n",
    "import random\n",
    "import os\n",
    "\n",
    "def print_time(func):\n",
    "    @wraps(func)\n",
    "    def wrapper(*args, **kwargs):\n",
    "        start_time = time.time()\n",
    "        result = func(*args, **kwargs)\n",
    "        end_time = time.time()\n",
    "        duration_time = end_time - start_time\n",
    "        print(\"execute time running %s: %s seconds\" % (func.__name__, duration_time))\n",
    "        return result\n",
    " \n",
    "    return wrapper"
   ]
  },
  {
   "cell_type": "code",
   "execution_count": null,
   "metadata": {},
   "outputs": [],
   "source": [
    "import requests,json\n",
    "from multiprocessing import Pool\n",
    "import pickle as pkl\n",
    "\n",
    "def get_problem_by_slug(slug):\n",
    "    session = requests.Session()\n",
    "    user_agent = r'Mozilla/5.0 (Windows NT 6.1; WOW64) AppleWebKit/537.36 (KHTML, like Gecko) Chrome/44.0.2403.157 Safari/537.36'\n",
    "\n",
    "    url = \"https://leetcode.com/graphql\"\n",
    "    params = {'operationName': \"getQuestionDetail\",\n",
    "        'variables': {'titleSlug': slug},\n",
    "        'query': '''query getQuestionDetail($titleSlug: String!) {\n",
    "            question(titleSlug: $titleSlug) {\n",
    "                questionFrontendId\n",
    "                likes\n",
    "                dislikes\n",
    "                difficulty\n",
    "            }\n",
    "        }'''\n",
    "    }\n",
    "\n",
    "    json_data = json.dumps(params).encode('utf8')\n",
    "                        \n",
    "    headers = {'User-Agent': user_agent, 'Connection': \n",
    "        'keep-alive', 'Content-Type': 'application/json',\n",
    "        'Referer': 'https://leetcode.com/problems/' + slug}\n",
    "    resp = session.post(url, data = json_data, headers = headers, timeout = 10)\n",
    "    content = resp.json()\n",
    "\n",
    "    # 题目详细信息\n",
    "    question = content['data']['question']\n",
    "    like_rate=(content['data']['question']['likes']/(content['data']['question']['dislikes']+content['data']['question']['likes']))\n",
    "    return (content['data']['question']['questionFrontendId'],slug,content['data']['question']['difficulty'],like_rate)\n",
    "@print_time\n",
    "def get_problems(url = \"https://leetcode.com/api/problems/all/\"):\n",
    "    session = requests.Session()\n",
    "    user_agent = r'Mozilla/5.0 (Windows NT 6.1; WOW64) AppleWebKit/537.36 (KHTML, like Gecko) Chrome/44.0.2403.157 Safari/537.36'\n",
    "\n",
    "    headers = {'User-Agent': user_agent, 'Connection': 'keep-alive'}\n",
    "    resp = session.get(url, headers = headers, timeout = 10)\n",
    "       \n",
    "    question_list = json.loads(resp.content.decode('utf-8'))\n",
    "\n",
    "    slugs=[question['stat']['question__title_slug'] for question in question_list['stat_status_pairs']]\n",
    "    pool=Pool()\n",
    "    res = pool.map(get_problem_by_slug,slugs)\n",
    "    pool.close()\n",
    "    pool.join()\n",
    "    return res\n",
    "\n"
   ]
  },
  {
   "cell_type": "code",
   "execution_count": null,
   "metadata": {},
   "outputs": [],
   "source": [
    "liked_filename='leetcode_liked_info.pkl'\n",
    "if os.path.exists(liked_filename) and False:\n",
    "    with open(liked_filename,'rb') as f:\n",
    "        a=pkl.load(f)\n",
    "else:\n",
    "    a=get_problems()\n",
    "    a.sort(reverse=True,key=lambda x:x[3])\n",
    "    with open(liked_filename,'wb') as f:\n",
    "        pkl.dump(a, f)"
   ]
  },
  {
   "cell_type": "code",
   "execution_count": null,
   "metadata": {},
   "outputs": [],
   "source": [
    "hard=[line[:-2] for line in a if line[2]=='Hard' and int(line[0])<1000]\n",
    "# import pandas as pd\n",
    "# pd.set_option('display.max_rows', 500)\n",
    "# pd.DataFrame(hard)\n",
    "for line in hard:\n",
    "    print(line[0],'\\t',line[1])"
   ]
  },
  {
   "cell_type": "code",
   "execution_count": null,
   "metadata": {},
   "outputs": [],
   "source": [
    "a"
   ]
  },
  {
   "cell_type": "code",
   "execution_count": null,
   "metadata": {},
   "outputs": [],
   "source": [
    "len(a)"
   ]
  },
  {
   "cell_type": "code",
   "execution_count": null,
   "metadata": {},
   "outputs": [],
   "source": [
    "with open('tmp.txt', 'w') as f:\n",
    "    for i, x in enumerate(a):\n",
    "#         if i > 3:\n",
    "#             break\n",
    "#         print(x[0], x[1], x[2])\n",
    "        f.write(x[0] + ',' + x[1] + ',' + x[2] + ',' + str(x[3]) + '\\n')"
   ]
  },
  {
   "cell_type": "code",
   "execution_count": null,
   "metadata": {},
   "outputs": [],
   "source": [
    "print(filtered)"
   ]
  },
  {
   "cell_type": "code",
   "execution_count": null,
   "metadata": {},
   "outputs": [],
   "source": [
    "set([1])[0]"
   ]
  },
  {
   "cell_type": "code",
   "execution_count": null,
   "metadata": {},
   "outputs": [],
   "source": []
  }
 ],
 "metadata": {
  "kernelspec": {
   "display_name": "Python 3",
   "language": "python",
   "name": "python3"
  },
  "language_info": {
   "codemirror_mode": {
    "name": "ipython",
    "version": 3
   },
   "file_extension": ".py",
   "mimetype": "text/x-python",
   "name": "python",
   "nbconvert_exporter": "python",
   "pygments_lexer": "ipython3",
   "version": "3.7.6"
  }
 },
 "nbformat": 4,
 "nbformat_minor": 4
}
